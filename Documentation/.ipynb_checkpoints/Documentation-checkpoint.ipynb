{
 "cells": [
  {
   "cell_type": "markdown",
   "metadata": {},
   "source": [
    "<div class=text-justify>\n",
    "<h1>Neural Style Transfer</h1>\n",
    "<hr>\n",
    "</div>\n",
    "\n",
    "<div class=text-justify>\n",
    "Neural style transfer is a computer vision technique consisting on applying the artistic style from one image into the content of another image. This way, the output image will have the intention of the artist who draw the content image, as if the artist who draw the style image painted it.\n",
    "\n",
    "</div>\n",
    "\n",
    "<img src=\"https://github.com/PabloRR100/Neural-Style-Transfer/blob/master/Documentation/images/intro.png?raw=True\">\n"
   ]
  },
  {
   "cell_type": "markdown",
   "metadata": {},
   "source": [
    "## Index\n",
    "\n",
    "- Just give me the code  \n",
    "    - Python Files\n",
    "        - [PyTorch](https://github.com/PabloRR100/Neural-Style-Transfer/blob/master/PyTorch/style_tranfer.py)\n",
    "        - [Keras](https://github.com/PabloRR100/Neural-Style-Transfer/blob/master/Keras/style_transfer_model.py) \n",
    "    - Explained Notebooks\n",
    "        - [PyTorch Documentation](https://github.com/PabloRR100/Neural-Style-Transfer/blob/master/PyTorch%20Implementation.md)\n",
    "        - Keras Documentation - To Be Implemented\n",
    "        \n",
    "- How it works?\n",
    "- Reproduce content\n",
    "- Reproduce style\n",
    "- Final Picture"
   ]
  },
  {
   "cell_type": "markdown",
   "metadata": {},
   "source": [
    "\n",
    "<h2> How does it work?</h2>\n",
    "<hr>\n",
    "<div class=text-justify>\n",
    "The publication where neural style transfer was introduced is this: <a href='https://arxiv.org/pdf/1508.06576.pdf'> Arxiv Publication </a>\n",
    "<br><br>\n",
    "It is pretty much as applying Convolutional Neural Networks to an image. The trick resides on how the loss of the model is defined. In fact, the weights in NST are fixed, which means we could use a pretrained model and never update its weights\n",
    "<br><br>\n",
    "So, what do we maximize? In NST we maximize the output with respect to the input itself!\n",
    "<br><br>\n",
    "We know that a CNN allow us to have a representation of the image into what we call feature maps, that can actually be the size we desire. Therefore, what we are looking is for another image that have the convolved outputs as the original images.\n",
    "\n",
    "</div>\n",
    "\n",
    "\n",
    "<img src=\"https://github.com/PabloRR100/Neural-Style-Transfer/blob/master/Documentation/images/eq1.png?raw=true\" alt=\"eq1\" style=\"width:40%; margin=10px\"/>\n",
    "\n",
    "This would be equivalent to answering the question: what image maximizes these activations?\n",
    "\n",
    "[intro]: https://github.com/PabloRR100/Neural-Style-Transfer/blob/master/Documentation/images/intro.png?raw=true\n"
   ]
  },
  {
   "cell_type": "markdown",
   "metadata": {},
   "source": [
    "<h2>Reproduce Content</h2>\n",
    "<hr>\n",
    "\n",
    "How could we reproduce the content of an image?\n",
    "\n",
    "<img src=\"https://github.com/PabloRR100/Neural-Style-Transfer/blob/master/Documentation/images/reproduce_content.png?raw=true\" alt=\"content\"/>\n",
    "\n",
    "\n",
    "<div class=text-justify>\n",
    "As mention, we are looking for the result of the convolution to be equivalent. In the figure above, our content image (the elephant) will produce an output after the forward pass on the CNN. We will then change the pixels in out input image (the noisy image) to produce the same output volume.\n",
    "<br><br>\n",
    "And compute the loss of this aspect is trivial. We want to know “how far” both volumes are, so we could simple calculate the MSE for the vector resulting of flatten those volumes.\n",
    "</div>\n",
    "\n",
    "<img src=\"https://github.com/PabloRR100/Neural-Style-Transfer/blob/master/Documentation/images/eq2.png?raw=true\" alt=\"eq1\" style=\"width:60%\"/>\n",
    "\n",
    "<u><h3>Note</h3></u>\n",
    "<div class=text-justify>\n",
    "We now could think about how CNN works to take more advantage of using it in this task. As we know, CNN propagate representations of the image over the depth dimension, layer-by-layer. This means, that the further we go from the input image, more detail from the image is represented by the output of that particular layer.\n",
    "    <br><br>\n",
    "Since right now we want to capture the content of the image, we are not actually interested in using the entire network, since we will lose precision in the content encoding. Therefore, the above equations will be more accurate by changing:\n",
    "</div>\n",
    "\n",
    "<img src=\"https://github.com/PabloRR100/Neural-Style-Transfer/blob/master/Documentation/images/eq3.png?raw=true\" alt=\"eq1\" style=\"width:60%\"/>\n",
    "\n",
    "<div class=text-justify>\n",
    "The next picture shows how out prediction image looks if we convolve the content image until the last convolutional layer. We can see how the main features are still kept, and we have “made room” for the style matching. \n",
    "Note that if we recreate after passing the content image only until the first convolution, it will be very sharp, close to the actual content image. So, the content will be kept, but there wouldn’t be that space for the style.\n",
    "</div>\n",
    "\n",
    "<img src=\"https://github.com/PabloRR100/Neural-Style-Transfer/blob/master/Documentation/images/content_decoded.png?raw=true\" alt=\"content_decoded\" style=\"width:30%; margin=10px\"/>\n"
   ]
  },
  {
   "cell_type": "markdown",
   "metadata": {},
   "source": [
    "<h2>Reproduce Style</h2>\n",
    "<hr>\n",
    "\n",
    "<div class=text-justify>\n",
    "We have already cover how are we going to attempt to replicate the content of a target image. But, at the same time we keep track of replicating the style of the style image. In fact, if we were only to replicate the output using the input image, why did we bother to use a CNN in the first place?\n",
    "<br><br>\n",
    "As we saw before, the deeper we go into the CNN the more detail we lose. However, this is the key point for extracting the style of an image! We want to capture the style, we are not looking at the details at pixel level, we are looking for more general representations of the image.\n",
    "</div>\n",
    "\n",
    "<u><h3>Gram Matrix</h3></u>\n",
    "<div class=text-justify>\n",
    "We need to explain the concept of the gram matrix in order to understand how to reproduce the style.\n",
    "</div>\n",
    "\n",
    "<img src=\"https://github.com/PabloRR100/Neural-Style-Transfer/blob/master/Documentation/images/eq4.png?raw=true\" alt=\"content\" style=\"width:20%; margin-bottom:20px\"/>\n",
    "\n",
    "<div class=text-justify>\n",
    "The gram matrix G is computed by multiplying the input image by its transpose. The intuition behind this matrix is that it contains non-localized information about the images, such as textures and other features that conform the style of an artist. The gram matrix formulation suggest that it is computing the <b><i>autocorrelation</i></b>. This means, how correlated are the input with itself.\n",
    "    <br><br>\n",
    "But our convolution output is a 3D volume. We need to do a transformation to be able to convert it to a 2D matrix. Therefore, we flatten the volume along the spatial dimension.\n",
    "\n",
    "</div>\n",
    "\n",
    "<img src=\"https://github.com/PabloRR100/Neural-Style-Transfer/blob/master/Documentation/images/gram_matrix.png?raw=true\" alt=\"content\"/>\n",
    "\n",
    "\n",
    "<div class=text-justify>\n",
    "The resulting gran matrix becomes size (Features x Features). Interestingly, the image size dimensions disappear. This agrees with the statement we mention before. When it comes to texture, we don’t care about the localization on the image, it must be consistent at every location on the image.\n",
    "    <br><br>\n",
    "In the original paper, they took the output at 5 different locations of the VGG:\n",
    "</div>\n",
    "\n",
    "<img src=\"https://github.com/PabloRR100/Neural-Style-Transfer/blob/master/Documentation/images/style_loss.png?raw=true\" alt=\"content\" style=\"width:85%\"/>\n",
    "\n",
    "By doing this, it allows us to capture patterns of different sizes, since they are at different depth of the CNN. So, to compute the final loss of the style, we could simply make a weighted average of the errors at every defined output convolution. \n",
    "\n",
    "<u><h3>Note</h3></u>\n",
    "<div class=text-justify>\n",
    "These are one of the hyperparameters we have to decide for the architecture of our style transfer model. The other ones are regarding how much importance we give to the content being well reproduced against the style, to compute the final global loss function. \n",
    "</div>\n",
    "\n",
    "<img src=\"https://github.com/PabloRR100/Neural-Style-Transfer/blob/master/Documentation/images/eq5.png?raw=true\" alt=\"content\" style=\"width:30%\"/>"
   ]
  },
  {
   "cell_type": "markdown",
   "metadata": {},
   "source": [
    "<h1>Final Picture</h1>\n",
    "<hr>\n",
    "\n",
    "<img src=\"https://github.com/PabloRR100/Neural-Style-Transfer/blob/master/Documentation/images/global_picture.png?raw=true\" alt=\"content\"/>"
   ]
  },
  {
   "cell_type": "code",
   "execution_count": null,
   "metadata": {},
   "outputs": [],
   "source": []
  },
  {
   "cell_type": "code",
   "execution_count": null,
   "metadata": {},
   "outputs": [],
   "source": []
  }
 ],
 "metadata": {
  "kernelspec": {
   "display_name": "Python 3",
   "language": "python",
   "name": "python3"
  },
  "language_info": {
   "codemirror_mode": {
    "name": "ipython",
    "version": 3
   },
   "file_extension": ".py",
   "mimetype": "text/x-python",
   "name": "python",
   "nbconvert_exporter": "python",
   "pygments_lexer": "ipython3",
   "version": "3.6.6"
  }
 },
 "nbformat": 4,
 "nbformat_minor": 2
}
